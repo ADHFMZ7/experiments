{
 "cells": [
  {
   "cell_type": "markdown",
   "metadata": {},
   "source": [
    "# SQL Injection\n",
    "\n",
    "This notebook will be showing the danger of an sql injection attack and how they can be prevented.\n",
    "\n",
    "[SQL](https://en.wikipedia.org/wiki/SQL) (Structured Query Language) is a programming language used to manage data in a structure called a database. A database is useful to store data that persists rather than being cleared when the program is done running. \n",
    "\n",
    "Many web applications such as social media, ecommerce, and more use sql databases to store your data, so it is very important that they are secure.\n",
    "\n",
    "One of the most dangerous \n",
    "\n",
    "To demonstrate SQL injection, we first need an sql database. I will be using sqlite3 to create a new database stored in memory.\n"
   ]
  },
  {
   "cell_type": "code",
   "execution_count": 1,
   "metadata": {},
   "outputs": [],
   "source": [
    "import sqlite3\n",
    "\n",
    "con = sqlite3.connect(':memory:')\n",
    "cur = con.cursor()"
   ]
  },
  {
   "cell_type": "markdown",
   "metadata": {},
   "source": [
    "Now that we have a database setup, we can run SQL queries to create, read, update, and delete data. We will create a new table that holds accounts with usernames and passwords."
   ]
  },
  {
   "cell_type": "code",
   "execution_count": 2,
   "metadata": {},
   "outputs": [
    {
     "data": {
      "text/plain": [
       "<sqlite3.Cursor at 0x7fa0c9222030>"
      ]
     },
     "execution_count": 2,
     "metadata": {},
     "output_type": "execute_result"
    }
   ],
   "source": [
    "cur.execute(\"\"\"CREATE TABLE accounts\n",
    "            (username text, password text)\"\"\")"
   ]
  },
  {
   "cell_type": "code",
   "execution_count": 3,
   "metadata": {},
   "outputs": [],
   "source": [
    "cur.execute(\"\"\"INSERT INTO accounts VALUES('asdfghjkl', 'passasdf')\"\"\")\n",
    "cur.execute(\"\"\"INSERT INTO accounts VALUES('ahmad', 'catcat77')\"\"\")\n",
    "cur.execute(\"\"\"INSERT INTO accounts VALUES('steve', 'skrrtpop')\"\"\")\n",
    "cur.execute(\"\"\"INSERT INTO accounts VALUES('andrew', '1234')\"\"\")\n",
    "con.commit()"
   ]
  },
  {
   "cell_type": "code",
   "execution_count": 7,
   "metadata": {},
   "outputs": [
    {
     "data": {
      "text/plain": [
       "[('catcat77',)]"
      ]
     },
     "execution_count": 7,
     "metadata": {},
     "output_type": "execute_result"
    }
   ],
   "source": [
    "user = input(\"Enter your username: \")\n",
    "cur.execute(f\"SELECT password FROM accounts WHERE username = '{user}'\")\n",
    "cur.fetchall()"
   ]
  },
  {
   "cell_type": "code",
   "execution_count": 2,
   "metadata": {
    "scrolled": true
   },
   "outputs": [
    {
     "name": "stdout",
     "output_type": "stream",
     "text": [
      "Enter your username: ahmad\n"
     ]
    }
   ],
   "source": [
    "\n"
   ]
  },
  {
   "cell_type": "code",
   "execution_count": 20,
   "metadata": {},
   "outputs": [
    {
     "ename": "OperationalError",
     "evalue": "no tables specified",
     "output_type": "error",
     "traceback": [
      "\u001b[0;31m---------------------------------------------------------------------------\u001b[0m",
      "\u001b[0;31mOperationalError\u001b[0m                          Traceback (most recent call last)",
      "\u001b[0;32m<ipython-input-20-bc3ff6ebd122>\u001b[0m in \u001b[0;36m<module>\u001b[0;34m\u001b[0m\n\u001b[0;32m----> 1\u001b[0;31m \u001b[0mcur\u001b[0m\u001b[0;34m.\u001b[0m\u001b[0mexecute\u001b[0m\u001b[0;34m(\u001b[0m\u001b[0;34m'SELECT *'\u001b[0m\u001b[0;34m)\u001b[0m\u001b[0;34m\u001b[0m\u001b[0;34m\u001b[0m\u001b[0m\n\u001b[0m",
      "\u001b[0;31mOperationalError\u001b[0m: no tables specified"
     ]
    }
   ],
   "source": [
    "cur.execute('SELECT *')"
   ]
  },
  {
   "cell_type": "code",
   "execution_count": null,
   "metadata": {},
   "outputs": [],
   "source": []
  }
 ],
 "metadata": {
  "kernelspec": {
   "display_name": "Python 3",
   "language": "python",
   "name": "python3"
  },
  "language_info": {
   "codemirror_mode": {
    "name": "ipython",
    "version": 3
   },
   "file_extension": ".py",
   "mimetype": "text/x-python",
   "name": "python",
   "nbconvert_exporter": "python",
   "pygments_lexer": "ipython3",
   "version": "3.8.8"
  },
  "vscode": {
   "interpreter": {
    "hash": "40d3a090f54c6569ab1632332b64b2c03c39dcf918b08424e98f38b5ae0af88f"
   }
  }
 },
 "nbformat": 4,
 "nbformat_minor": 2
}
